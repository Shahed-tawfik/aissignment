{
 "cells": [
  {
   "cell_type": "markdown",
   "id": "b6fac863-726d-4607-be47-9e3f930edfe1",
   "metadata": {},
   "source": [
    "# Data Science Tools and Ecosystem"
   ]
  },
  {
   "cell_type": "markdown",
   "id": "de0edad4-5b1f-4f8c-91ab-90fc9400170a",
   "metadata": {
    "tags": []
   },
   "source": [
    "In this notebook, Data Science Tools and Ecosystem are summarized."
   ]
  },
  {
   "cell_type": "markdown",
   "id": "14d5dc5e-1071-4772-a8be-240bde00682c",
   "metadata": {},
   "source": [
    "**Objectives:**\n",
    "* List popular languages for Data Science\n",
    "* List popular libraries for Data Science\n",
    "* List popular data science tools for Data Science"
   ]
  },
  {
   "cell_type": "markdown",
   "id": "ff9d0322-5c95-4770-a104-bfc998f3f2fc",
   "metadata": {},
   "source": [
    "Some of the popular languages that Data Scientists use are:"
   ]
  },
  {
   "cell_type": "markdown",
   "id": "50713e10-d967-4130-b93e-00efb949d115",
   "metadata": {},
   "source": [
    "1. python\n",
    "2. R\n",
    "3. SQL"
   ]
  },
  {
   "cell_type": "markdown",
   "id": "1ea71855-954b-4548-bde8-3b2c956eb51a",
   "metadata": {},
   "source": [
    "Some of the commonly used libraries used by Data Scientists include:"
   ]
  },
  {
   "cell_type": "markdown",
   "id": "97efad20-3108-4f08-9723-e1c0389c2881",
   "metadata": {},
   "source": [
    "1. Numpy\n",
    "2. pandas\n",
    "3. Scipy"
   ]
  },
  {
   "cell_type": "markdown",
   "id": "9989ff2b-6b43-488d-8ab2-1601004063fc",
   "metadata": {},
   "source": [
    "| Data Science Tools |\n",
    "| ------------------ |\n",
    "| Jupyter notebook |\n",
    "| Rstudio |\n",
    "| Github |"
   ]
  },
  {
   "cell_type": "markdown",
   "id": "c901a33f-939e-44f8-9ce3-0fe713d88f4a",
   "metadata": {
    "tags": []
   },
   "source": [
    "### Below are a few examples of evaluating arithmetic expressions in Python"
   ]
  },
  {
   "cell_type": "code",
   "execution_count": 4,
   "id": "6ba5e6d9-d6d1-49dc-b9e5-f004d4e4981f",
   "metadata": {
    "tags": []
   },
   "outputs": [
    {
     "data": {
      "text/plain": [
       "17"
      ]
     },
     "execution_count": 4,
     "metadata": {},
     "output_type": "execute_result"
    }
   ],
   "source": [
    "# This a simple arithmetic expression to mutiply then add integers\n",
    "(3*4)+5"
   ]
  },
  {
   "cell_type": "code",
   "execution_count": 10,
   "id": "7daa9c80-0d19-4cd1-bb48-1a2b0a47244a",
   "metadata": {
    "tags": []
   },
   "outputs": [
    {
     "data": {
      "text/plain": [
       "3.3333333333333335"
      ]
     },
     "execution_count": 10,
     "metadata": {},
     "output_type": "execute_result"
    }
   ],
   "source": [
    "# This will convert 200 minutes to hours by diving by 60\n",
    "200/60"
   ]
  },
  {
   "cell_type": "markdown",
   "id": "037166a4-7c90-45cc-b164-ea4f6a3148f9",
   "metadata": {},
   "source": [
    "## Author\n",
    "Shahed Tawfik"
   ]
  },
  {
   "cell_type": "code",
   "execution_count": null,
   "id": "b22e43d1-3c75-4268-bab9-fc2ad223bad5",
   "metadata": {},
   "outputs": [],
   "source": []
  }
 ],
 "metadata": {
  "kernelspec": {
   "display_name": "Python 3 (ipykernel)",
   "language": "python",
   "name": "python3"
  },
  "language_info": {
   "codemirror_mode": {
    "name": "ipython",
    "version": 3
   },
   "file_extension": ".py",
   "mimetype": "text/x-python",
   "name": "python",
   "nbconvert_exporter": "python",
   "pygments_lexer": "ipython3",
   "version": "3.11.5"
  }
 },
 "nbformat": 4,
 "nbformat_minor": 5
}
